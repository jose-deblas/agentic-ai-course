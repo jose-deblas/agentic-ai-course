{
 "cells": [
  {
   "cell_type": "markdown",
   "id": "ec95313a",
   "metadata": {},
   "source": [
    "## Graded Lab: Reflection in a Research Agent\n",
    "\n",
    "In this graded lab, you’ll implement a simple **agentic workflow** designed to simulate reflective thinking in a writing task. This is one building block of a more complex research agent that will be constructed throughout the course.\n",
    "\n",
    "### Objective\n",
    "\n",
    "Build a three-step workflow where an LLM writes an essay draft, critiques it, and rewrites it. \n",
    "\n",
    "* **Step 1 – Drafting:** Call the LLM to generate an initial draft of an essay based on a simple prompt.\n",
    "* **Step 2 – Reflection:** Reflect on the draft using a reasoning step. (Optionally, this can be done with a different model.)\n",
    "* **Step 3 – Revision:** Apply the feedback from the reflection to generate a revised version of the essay.\n"
   ]
  },
  {
   "cell_type": "markdown",
   "id": "4a473390",
   "metadata": {},
   "source": [
    "---\n",
    "<a name='submission'></a>\n",
    "\n",
    "<h4 style=\"color:green; font-weight:bold;\">TIPS FOR SUCCESSFUL GRADING OF YOUR ASSIGNMENT:</h4>\n",
    "\n",
    "* All cells are frozen except for the ones where you need to write your solution code or when explicitly mentioned you can interact with it.\n",
    "\n",
    "* In each exercise cell, look for comments `### START CODE HERE ###` and `### END CODE HERE ###`. These show you where to write the solution code. **Do not add or change any code that is outside these comments**.\n",
    "\n",
    "* You can add new cells to experiment but these will be omitted by the grader, so don't rely on newly created cells to host your solution code, use the provided places for this.\n",
    "\n",
    "* Avoid using global variables unless you absolutely have to. The grader tests your code in an isolated environment without running all cells from the top. As a result, global variables may be unavailable when scoring your submission. Global variables that are meant to be used will be defined in UPPERCASE.\n",
    "\n",
    "* To submit your notebook for grading, first save it by clicking the 💾 icon on the top left of the page and then click on the <span style=\"background-color: red; color: white; padding: 3px 5px; font-size: 16px; border-radius: 5px;\">Submit assignment</span> button on the top right of the page.\n",
    "---"
   ]
  },
  {
   "cell_type": "markdown",
   "id": "19131dc4",
   "metadata": {},
   "source": [
    "Before interacting with the language models, we initialize the `aisuite` client. This setup loads environment variables (e.g., API keys) from a `.env` file to securely authenticate with backend services. The `ai.Client()` instance will be used to make all model calls throughout this workflow."
   ]
  },
  {
   "cell_type": "code",
   "execution_count": 1,
   "id": "9ccd6eeb",
   "metadata": {
    "deletable": false,
    "editable": false,
    "height": 145,
    "tags": [
     "graded"
    ]
   },
   "outputs": [],
   "source": [
    "from dotenv import load_dotenv\n",
    "\n",
    "load_dotenv()\n",
    "\n",
    "import aisuite as ai\n",
    "\n",
    "# Define the client. You can use this variable inside your graded functions!\n",
    "CLIENT = ai.Client()"
   ]
  },
  {
   "cell_type": "code",
   "execution_count": 2,
   "id": "88ef4447",
   "metadata": {
    "deletable": false,
    "editable": false,
    "height": 30
   },
   "outputs": [],
   "source": [
    "import unittests"
   ]
  },
  {
   "cell_type": "markdown",
   "id": "cb1d6e33",
   "metadata": {},
   "source": [
    "## Exercise 1: `generate_draft` Function\n",
    "\n",
    "**Objective**:\n",
    "Write a function called `generate_draft` that takes in a string topic and uses a language model to generate a complete draft essay.\n",
    "\n",
    "**Inputs**:\n",
    "\n",
    "* `topic` (str): The essay topic.\n",
    "* `model` (str, optional): The model identifier to use. Defaults to `\"openai:gpt-4o\"`.\n",
    "\n",
    "**Output**:\n",
    "\n",
    "* A string representing the full draft of the essay.\n",
    "\n",
    "The setup for calling the LLM using the aisuite library is already provided. Focus on crafting the prompt content. You can reference this setup in later exercises to understand how to interact with the library effectively.\n"
   ]
  },
  {
   "cell_type": "code",
   "execution_count": 3,
   "id": "dbe325d5",
   "metadata": {
    "deletable": false,
    "height": 377,
    "tags": [
     "graded"
    ]
   },
   "outputs": [],
   "source": [
    "# GRADED FUNCTION: generate_draft\n",
    "\n",
    "def generate_draft(topic: str, model: str = \"openai:gpt-4o\") -> str: \n",
    "    \n",
    "    ### START CODE HERE ###\n",
    "\n",
    "    # Define your prompt here. A multi-line f-string is typically used for this.\n",
    "    prompt = f\"\"\"\n",
    "    Write an initial draft of an essay based on the following topic:\n",
    "    \n",
    "    {topic}\n",
    "    \"\"\"\n",
    "    ### END CODE HERE ###\n",
    "    \n",
    "    # Get a response from the LLM by creating a chat with the client.\n",
    "    response = CLIENT.chat.completions.create(\n",
    "        model=model,\n",
    "        messages=[{\"role\": \"user\", \"content\": prompt}],\n",
    "        temperature=1.0,\n",
    "    )\n",
    "\n",
    "    return response.choices[0].message.content"
   ]
  },
  {
   "cell_type": "markdown",
   "id": "2b989100",
   "metadata": {},
   "source": [
    "Run the following cell to check your code is working correctly:"
   ]
  },
  {
   "cell_type": "code",
   "execution_count": 4,
   "id": "85ee72c5",
   "metadata": {
    "deletable": false,
    "editable": false,
    "height": 46
   },
   "outputs": [
    {
     "name": "stdout",
     "output_type": "stream",
     "text": [
      "\u001b[92m All tests passed!\n"
     ]
    }
   ],
   "source": [
    "# Test your code!\n",
    "unittests.test_generate_draft(generate_draft)"
   ]
  },
  {
   "cell_type": "markdown",
   "id": "136a95db",
   "metadata": {},
   "source": [
    "## Exercise 2: `reflect_on_draft` Function\n",
    "\n",
    "**Objective**:\n",
    "Write a function called `reflect_on_draft` that takes a previously generated essay draft and uses a language model to provide constructive feedback.\n",
    "\n",
    "**Inputs**:\n",
    "\n",
    "* `draft` (str): The essay text to reflect on.\n",
    "* `model` (str, optional): The model identifier to use. Defaults to `\"openai:o4-mini\"`.\n",
    "\n",
    "**Output**:\n",
    "\n",
    "* A string with feedback in paragraph form.\n",
    "\n",
    "**Requirements**:\n",
    "\n",
    "* The feedback should be critical but constructive.\n",
    "* It should address issues such as structure, clarity, strength of argument, and writing style.\n",
    "* The function should send the draft to the model and return its response.\n",
    "\n",
    "You do **not** need to rewrite the essay at this step—just analyze and reflect on it.\n"
   ]
  },
  {
   "cell_type": "code",
   "execution_count": 11,
   "id": "4cc1a1cf",
   "metadata": {
    "deletable": false,
    "height": 542,
    "tags": [
     "graded"
    ]
   },
   "outputs": [],
   "source": [
    "# GRADED FUNCTION: reflect_on_draft\n",
    "\n",
    "def reflect_on_draft(draft: str, model: str = \"openai:o4-mini\") -> str:\n",
    "\n",
    "    ### START CODE HERE ###\n",
    "\n",
    "    # Define your prompt here. A multi-line f-string is typically used for this.\n",
    "    prompt = f\"\"\"\n",
    "    This is an initial draft of an essay:\n",
    "    \n",
    "    {draft}\n",
    "    \n",
    "    Give me a critical but constructive feedback based on:\n",
    "    1. Structure\n",
    "    2. Clarity\n",
    "    3. Strength of argument\n",
    "    4. Writing style\n",
    "    \n",
    "    ACCEPTANCE CRITERIA\n",
    "    Return just the feedback\n",
    "    \"\"\"\n",
    "\n",
    "    ### END CODE HERE ###\n",
    "\n",
    "    # Get a response from the LLM by creating a chat with the client.\n",
    "    response = CLIENT.chat.completions.create(\n",
    "        model=model,\n",
    "        messages=[{\"role\": \"user\", \"content\": prompt}],\n",
    "        temperature=1.0,\n",
    "    )\n",
    "\n",
    "    return response.choices[0].message.content"
   ]
  },
  {
   "cell_type": "code",
   "execution_count": 6,
   "id": "001ce37a",
   "metadata": {
    "deletable": false,
    "editable": false,
    "height": 46
   },
   "outputs": [
    {
     "name": "stdout",
     "output_type": "stream",
     "text": [
      "\u001b[92m All tests passed!\n"
     ]
    }
   ],
   "source": [
    "# Test your code!\n",
    "unittests.test_reflect_on_draft(reflect_on_draft)"
   ]
  },
  {
   "cell_type": "markdown",
   "id": "e99bba56",
   "metadata": {},
   "source": [
    "## Exercise 3: `revise_draft` Function\n",
    "\n",
    "**Objective**:\n",
    "Implement a function called `revise_draft` that improves a given essay draft based on feedback from a reflection step.\n",
    "\n",
    "**Inputs**:\n",
    "\n",
    "* `original_draft` (str): The initial version of the essay.\n",
    "* `reflection` (str): Constructive feedback or critique on the draft.\n",
    "* `model` (str, optional): The model identifier to use. Defaults to `\"openai:gpt-4o\"`.\n",
    "\n",
    "**Output**:\n",
    "\n",
    "* A string containing the revised and improved essay.\n",
    "\n",
    "**Requirements**:\n",
    "\n",
    "* The revised draft should address the issues mentioned in the feedback.\n",
    "* It should improve clarity, coherence, argument strength, and overall flow.\n",
    "* The function should use the feedback to guide the revision, and return only the final revised essay.\n",
    "\n",
    "In this final exercise, you'll also need to manage the call to the LLM using the CLIENT, as you've practiced in previous exercises."
   ]
  },
  {
   "cell_type": "code",
   "execution_count": 7,
   "id": "f91595e9",
   "metadata": {
    "deletable": false,
    "height": 559,
    "tags": [
     "graded"
    ]
   },
   "outputs": [],
   "source": [
    "# GRADED FUNCTION: revise_draft\n",
    "\n",
    "def revise_draft(original_draft: str, reflection: str, model: str = \"openai:gpt-4o\") -> str:\n",
    "\n",
    "    ### START CODE HERE ###\n",
    "\n",
    "    # Define your prompt here. A multi-line f-string is typically used for this.\n",
    "    prompt = f\"\"\"\n",
    "    This is an initial draft of an essay that has to be reviewed:\n",
    "    \n",
    "    DRAFT\n",
    "    \n",
    "    {original_draft}\n",
    "    \n",
    "    \n",
    "    ACCEPTANCE CRITERIA\n",
    "    \n",
    "    1. In order to to improve clarity, coherence, argument strenght and overall flow, review the initial draft taking into account the next feedback \n",
    "    {reflection}\n",
    "    \n",
    "    2. Return just a reviewed version of the essay\n",
    "    \"\"\"\n",
    "\n",
    "    # Get a response from the LLM by creating a chat with the client.\n",
    "    response = CLIENT.chat.completions.create(\n",
    "        model=model,\n",
    "        messages=[{\"role\": \"user\", \"content\": prompt}],\n",
    "        temperature=1.0,\n",
    "    )\n",
    "\n",
    "    ### END CODE HERE ###\n",
    "\n",
    "    return response.choices[0].message.content"
   ]
  },
  {
   "cell_type": "code",
   "execution_count": 8,
   "id": "318c3d55",
   "metadata": {
    "deletable": false,
    "editable": false,
    "height": 46
   },
   "outputs": [
    {
     "name": "stdout",
     "output_type": "stream",
     "text": [
      "\u001b[92m All tests passed!\n"
     ]
    }
   ],
   "source": [
    "# Test your code!\n",
    "unittests.test_revise_draft(revise_draft)"
   ]
  },
  {
   "cell_type": "markdown",
   "id": "c8a10d4c",
   "metadata": {},
   "source": [
    "### 🧪 Test the Reflective Writing Workflow\n",
    "\n",
    "Use the functions you implemented to simulate the complete writing workflow:\n",
    "\n",
    "1. **Generate a draft** in response to the essay prompt.\n",
    "2. **Reflect** on the draft to identify improvements.\n",
    "3. **Revise** the draft using the feedback.\n",
    "\n",
    "Observe the outputs of each step. You do **not** need to modify the outputs — just verify that the workflow runs as expected and each component returns a valid string.\n"
   ]
  },
  {
   "cell_type": "code",
   "execution_count": 9,
   "id": "203c734a",
   "metadata": {
    "deletable": false,
    "editable": false,
    "height": 277
   },
   "outputs": [
    {
     "name": "stdout",
     "output_type": "stream",
     "text": [
      "📝 Draft:\n",
      "\n",
      "Title: The Case for Government Regulation of Social Media Platforms\n",
      "\n",
      "Introduction\n",
      "\n",
      "In the modern digital age, social media platforms have become a ubiquitous presence in the daily lives of billions of people. They transcend geographical boundaries, enabling individuals to connect, share, and communicate in unprecedented ways. However, the immense influence wielded by social media companies has sparked a contentious debate: should these platforms be regulated by governments? This essay argues that while government regulation may pose certain challenges, it is necessary to ensure the ethical and responsible functioning of social media platforms, safeguard public interests, and protect democratic values.\n",
      "\n",
      "The Need for Regulation\n",
      "\n",
      "The rapid proliferation of social media has led to significant ramifications, not just in the realm of personal privacy, but also in the areas of misinformation, hate speech, and even national security. Without adequate oversight, these platforms can easily become breeding grounds for false information, as they often prioritize engagement over accuracy. This can have real-world consequences, such as influencing public opinion during elections or inciting violence. Government regulation would help ensure that these companies adhere to standards that prioritize factual information and transparency.\n",
      "\n",
      "Furthermore, social media has become a powerful tool for both positive and negative societal movements. While it can unite people under common causes, it can also facilitate the spread of harmful ideologies. Regulating these platforms would involve setting parameters to prevent the dissemination of hate speech and extremism, thereby protecting vulnerable communities from targeted harassment and ensuring a safer online environment.\n",
      "\n",
      "Balancing Free Speech and Regulation\n",
      "\n",
      "Critics of government regulation often cite the potential threat to free speech as a primary concern, arguing that oversight could lead to censorship and the suppression of dissenting voices. While this is a valid point, regulation need not be synonymous with censorship. Rather, it should focus on creating a balanced framework wherein social media platforms are held accountable for their content moderation practices. This involves establishing independent regulatory bodies that work in tandem with civil society organizations to ensure decisions are fair and transparent.\n",
      "\n",
      "Learning from Existing Models\n",
      "\n",
      "Countries around the world have already begun experimenting with different regulatory models aimed at addressing these issues. For example, the European Union's General Data Protection Regulation (GDPR) offers a comprehensive framework for protecting user privacy and has become a benchmark for data protection globally. Similarly, Australia's policies on countering extremist content serve as a potential model for other nations.\n",
      "\n",
      "Regulation does not need to be uniform across borders, but lessons from these existing models can contribute to the creation of effective, context-specific policies that respect national laws and cultural norms.\n",
      "\n",
      "Conclusion\n",
      "\n",
      "In conclusion, as social media continues to grow in scope and influence, the question of regulation will inevitably become more pressing. While there are legitimate concerns about government overreach and threats to free speech, these can be mitigated through careful policy design and implementation. Given the potential risks posed by unchecked social media platforms, it is imperative that governments step in to create a balanced regulatory framework that protects individual rights, promotes information integrity, and secures democratic processes. Ultimately, a collaborative approach between governments, industry stakeholders, and civil society organizations is essential in crafting solutions that benefit society as a whole.\n",
      "\n",
      "🧠 Feedback:\n",
      "\n",
      "Here’s some targeted feedback to help strengthen your essay. I’ve organized it under the four categories you requested.\n",
      "\n",
      "1. Structure  \n",
      "  • Introduction  \n",
      "    – Your introduction lays out the stakes well, but the thesis (“government regulation is necessary…”) could be sharper. Consider ending with a concise “roadmap” sentence that previews your main points (e.g., privacy, misinformation, hate speech).  \n",
      "  • Body Paragraphs  \n",
      "    – The “Need for Regulation” section covers three big issues (privacy, misinformation, national security). You might split it into two or three distinct paragraphs—each with its own topic sentence—so each point gets depth and evidence.  \n",
      "    – After “Need,” you move to “Balancing Free Speech,” then to “Learning from Existing Models.” You could add a fourth section that outlines concrete regulatory proposals or mechanisms (e.g., transparency reports, appeals processes, penalties). That helps bridge theory and practice.  \n",
      "  • Conclusion  \n",
      "    – Your conclusion restates the argument nicely, but it could be more forward-looking. Try ending with a call to action or a reflection on next steps (e.g., “Lawmakers must convene cross-sector working groups by 2025…”).\n",
      "\n",
      "2. Clarity  \n",
      "  • Define Key Terms  \n",
      "    – Words like “ethical functioning” or “harmful ideologies” are a bit broad. A quick definition or a brief example will make your claims more concrete.  \n",
      "  • Sentence Length & Focus  \n",
      "    – Some sentences, especially in the “Need for Regulation” paragraph, are quite long and pack in multiple ideas. Break them up so each sentence makes one clear point.  \n",
      "  • Transitions  \n",
      "    – Occasionally the jump from one idea to the next feels abrupt. Transitions—phrases like “Building on that concern…” or “Conversely…”—will guide readers through your logic more smoothly.\n",
      "\n",
      "3. Strength of Argument  \n",
      "  • Use Specific Evidence  \n",
      "    – Right now you allude to election interference, violence, hate speech—but don’t cite any examples or data. Even one or two well-chosen statistics (e.g., “In 2016, X% of false news stories on Facebook outperformed real news in shares”) or case studies (e.g., Cambridge Analytica) will boost credibility.  \n",
      "  • Deepen the Counterargument Section  \n",
      "    – You acknowledge the free-speech concern, but you could strengthen your case by explaining exactly how independent regulators could function without political bias. What checks and balances would you recommend?  \n",
      "  • Consider Unintended Consequences  \n",
      "    – A brief nod to potential downsides—overbroad laws, regulatory capture, or technical loopholes—followed by your mitigation strategies will show you’ve thought through the complexities.\n",
      "\n",
      "4. Writing Style  \n",
      "  • Active Voice  \n",
      "    – Phrases like “these platforms have become” or “it is necessary” are passive. Turning them around (“Social media platforms now drive…” or “We must regulate…”) makes your prose more dynamic.  \n",
      "  • Vary Your Vocabulary  \n",
      "    – “Regulation” appears very frequently. Once you’ve introduced it, you can swap in “oversight,” “rules,” or “guardrails” to keep the prose fresh.  \n",
      "  • Tone & Engagement  \n",
      "    – The essay is appropriately formal, but you might open with a vivid anecdote or statistic to hook readers before zooming out to the big picture. For example: “Every minute, users post 347,000 tweets—some of them lethal.”  \n",
      "  • Paragraph Length  \n",
      "    – A couple of your paragraphs run more than 10 lines. Breaking them into smaller chunks helps readers process each argument step by step.\n",
      "\n",
      "Overall, you’ve chosen a timely and important topic and laid out the broad contours of a solid case. By sharpening your thesis, bolstering each claim with data or examples, and fine-tuning your prose for clarity and energy, you’ll move from a strong draft to a compelling, authoritative essay. Good luck!\n",
      "\n",
      "✍️ Revised:\n",
      "\n",
      "Title: The Case for Government Regulation of Social Media Platforms\n",
      "\n",
      "Introduction\n",
      "\n",
      "In the modern digital age, social media platforms are a ubiquitous presence in the daily lives of billions. They transcend geographical boundaries, enabling unprecedented connections, sharing, and communication. However, the immense influence wielded by social media companies has sparked a contentious debate: should these platforms be regulated by governments? This essay argues that government regulation is necessary to ensure ethical and responsible functioning, safeguard public interests, and protect democratic values. It will explore the key areas of privacy, misinformation, and hate speech to illustrate the need for regulation.\n",
      "\n",
      "The Need for Regulation: Privacy Concerns\n",
      "\n",
      "One of the critical issues driving the call for regulation is the erosion of personal privacy. Social media platforms often harvest vast amounts of user data without transparent consent protocols, raising ethical concerns around surveillance and data misuse. User privacy should be rigorously protected through government oversight, ensuring platforms and their algorithms are transparent and accountable.\n",
      "\n",
      "Misinformation and Its Dangers \n",
      "\n",
      "Misinformation proliferates on social media, where platforms typically prioritize engagement over accuracy. This unchecked environment can dangerously influence public opinion, such as during elections, and incite real-world consequences. For instance, in 2016, false news stories on Facebook, on average, outperformed real news in terms of shares. Government regulation could mandate that social media companies adhere to standards prioritizing factual information and transparency.\n",
      "\n",
      "Hate Speech and National Security Implications\n",
      "\n",
      "Social media serves as a powerful tool for societal movements, both positive and negative. It can unite individuals for a cause, yet also facilitate the spread of harmful ideologies, threatening national security. Regulating these platforms sets parameters to curb hate speech and extremism, protecting vulnerable communities from targeted harassment and ensuring a safer online environment.\n",
      "\n",
      "Balancing Free Speech and Regulation\n",
      "\n",
      "Critics of regulation argue that oversight could undermine free speech, leading to censorship and suppressing dissenting voices. However, regulation need not equate to censorship. Instead, it should establish a balanced framework where social media platforms are accountable for their moderation practices. Independent regulatory bodies, functioning without political bias and with transparent checks and balances, are crucial to maintaining this balance.\n",
      "\n",
      "Learning from Existing Models\n",
      "\n",
      "Countries worldwide are experimenting with regulatory models addressing these issues. The European Union's General Data Protection Regulation (GDPR) offers a comprehensive framework for user privacy, setting a global benchmark. Australia's policies on countering extremist content could serve as a model for others. While regulation does not have to be uniform globally, these examples can inspire context-specific policies that respect national laws and cultural norms.\n",
      "\n",
      "Proposing Concrete Regulatory Mechanisms\n",
      "\n",
      "To bridge theory and practice, regulatory proposals should include transparency reports, appeals processes, and penalties for non-compliance. Social media platforms should publish regular transparency reports detailing content moderation decisions, while appeals processes allow users to contest those decisions. Penalties for non-compliance ensure that platforms adhere to established standards.\n",
      "\n",
      "Conclusion\n",
      "\n",
      "As social media continues to expand in scope and influence, the question of regulation becomes more pressing. While concerns about overreach and threats to free speech exist, these can be mitigated through careful policy design and implementation. Given the risks posed by unchecked social media, governments must create a balanced regulatory framework that protects individual rights, promotes information integrity, and secures democratic processes. Lawmakers must convene cross-sector working groups by 2025 to develop these solutions. Ultimately, a collaborative approach between governments, industry stakeholders, and civil society organizations is essential for crafting policies that benefit society as a whole.\n"
     ]
    }
   ],
   "source": [
    "essay_prompt = \"Should social media platforms be regulated by the government?\"\n",
    "\n",
    "# Agent 1 – Draft\n",
    "draft = generate_draft(essay_prompt)\n",
    "print(\"📝 Draft:\\n\")\n",
    "print(draft)\n",
    "\n",
    "# Agent 2 – Reflection\n",
    "feedback = reflect_on_draft(draft)\n",
    "print(\"\\n🧠 Feedback:\\n\")\n",
    "print(feedback)\n",
    "\n",
    "# Agent 3 – Revision\n",
    "revised = revise_draft(draft, feedback)\n",
    "print(\"\\n✍️ Revised:\\n\")\n",
    "print(revised)"
   ]
  },
  {
   "cell_type": "markdown",
   "id": "7e3eb897",
   "metadata": {},
   "source": [
    "To better visualize the output of each step in the reflective writing workflow, we use a utility function called `show_output`. This function displays the results of each stage (drafting, reflection, and revision) in styled boxes with custom background and text colors, making it easier to compare and understand the progression of the essay.\n"
   ]
  },
  {
   "cell_type": "code",
   "execution_count": 10,
   "id": "50667ba3",
   "metadata": {
    "deletable": false,
    "editable": false,
    "height": 129
   },
   "outputs": [
    {
     "data": {
      "text/html": [
       "\n",
       "    <div style=\"\n",
       "        border: 1px solid #ccc;\n",
       "        border-radius: 10px;\n",
       "        padding: 15px;\n",
       "        margin-bottom: 15px;\n",
       "        background-color: #fff8dc;\n",
       "        color: #333333;\n",
       "    \">\n",
       "        <h3 style=\"margin-top: 0;\">Step 1 – Draft</h3>\n",
       "        <pre style=\"\n",
       "            white-space: pre-wrap;\n",
       "            font-family: monospace;\n",
       "            font-size: 14px;\n",
       "        \">Title: The Case for Government Regulation of Social Media Platforms\n",
       "\n",
       "Introduction\n",
       "\n",
       "In the modern digital age, social media platforms have become a ubiquitous presence in the daily lives of billions of people. They transcend geographical boundaries, enabling individuals to connect, share, and communicate in unprecedented ways. However, the immense influence wielded by social media companies has sparked a contentious debate: should these platforms be regulated by governments? This essay argues that while government regulation may pose certain challenges, it is necessary to ensure the ethical and responsible functioning of social media platforms, safeguard public interests, and protect democratic values.\n",
       "\n",
       "The Need for Regulation\n",
       "\n",
       "The rapid proliferation of social media has led to significant ramifications, not just in the realm of personal privacy, but also in the areas of misinformation, hate speech, and even national security. Without adequate oversight, these platforms can easily become breeding grounds for false information, as they often prioritize engagement over accuracy. This can have real-world consequences, such as influencing public opinion during elections or inciting violence. Government regulation would help ensure that these companies adhere to standards that prioritize factual information and transparency.\n",
       "\n",
       "Furthermore, social media has become a powerful tool for both positive and negative societal movements. While it can unite people under common causes, it can also facilitate the spread of harmful ideologies. Regulating these platforms would involve setting parameters to prevent the dissemination of hate speech and extremism, thereby protecting vulnerable communities from targeted harassment and ensuring a safer online environment.\n",
       "\n",
       "Balancing Free Speech and Regulation\n",
       "\n",
       "Critics of government regulation often cite the potential threat to free speech as a primary concern, arguing that oversight could lead to censorship and the suppression of dissenting voices. While this is a valid point, regulation need not be synonymous with censorship. Rather, it should focus on creating a balanced framework wherein social media platforms are held accountable for their content moderation practices. This involves establishing independent regulatory bodies that work in tandem with civil society organizations to ensure decisions are fair and transparent.\n",
       "\n",
       "Learning from Existing Models\n",
       "\n",
       "Countries around the world have already begun experimenting with different regulatory models aimed at addressing these issues. For example, the European Union's General Data Protection Regulation (GDPR) offers a comprehensive framework for protecting user privacy and has become a benchmark for data protection globally. Similarly, Australia's policies on countering extremist content serve as a potential model for other nations.\n",
       "\n",
       "Regulation does not need to be uniform across borders, but lessons from these existing models can contribute to the creation of effective, context-specific policies that respect national laws and cultural norms.\n",
       "\n",
       "Conclusion\n",
       "\n",
       "In conclusion, as social media continues to grow in scope and influence, the question of regulation will inevitably become more pressing. While there are legitimate concerns about government overreach and threats to free speech, these can be mitigated through careful policy design and implementation. Given the potential risks posed by unchecked social media platforms, it is imperative that governments step in to create a balanced regulatory framework that protects individual rights, promotes information integrity, and secures democratic processes. Ultimately, a collaborative approach between governments, industry stakeholders, and civil society organizations is essential in crafting solutions that benefit society as a whole.</pre>\n",
       "    </div>\n",
       "    "
      ],
      "text/plain": [
       "<IPython.core.display.HTML object>"
      ]
     },
     "metadata": {},
     "output_type": "display_data"
    },
    {
     "data": {
      "text/html": [
       "\n",
       "    <div style=\"\n",
       "        border: 1px solid #ccc;\n",
       "        border-radius: 10px;\n",
       "        padding: 15px;\n",
       "        margin-bottom: 15px;\n",
       "        background-color: #e0f7fa;\n",
       "        color: #222222;\n",
       "    \">\n",
       "        <h3 style=\"margin-top: 0;\">Step 2 – Reflection</h3>\n",
       "        <pre style=\"\n",
       "            white-space: pre-wrap;\n",
       "            font-family: monospace;\n",
       "            font-size: 14px;\n",
       "        \">Here’s some targeted feedback to help strengthen your essay. I’ve organized it under the four categories you requested.\n",
       "\n",
       "1. Structure  \n",
       "  • Introduction  \n",
       "    – Your introduction lays out the stakes well, but the thesis (“government regulation is necessary…”) could be sharper. Consider ending with a concise “roadmap” sentence that previews your main points (e.g., privacy, misinformation, hate speech).  \n",
       "  • Body Paragraphs  \n",
       "    – The “Need for Regulation” section covers three big issues (privacy, misinformation, national security). You might split it into two or three distinct paragraphs—each with its own topic sentence—so each point gets depth and evidence.  \n",
       "    – After “Need,” you move to “Balancing Free Speech,” then to “Learning from Existing Models.” You could add a fourth section that outlines concrete regulatory proposals or mechanisms (e.g., transparency reports, appeals processes, penalties). That helps bridge theory and practice.  \n",
       "  • Conclusion  \n",
       "    – Your conclusion restates the argument nicely, but it could be more forward-looking. Try ending with a call to action or a reflection on next steps (e.g., “Lawmakers must convene cross-sector working groups by 2025…”).\n",
       "\n",
       "2. Clarity  \n",
       "  • Define Key Terms  \n",
       "    – Words like “ethical functioning” or “harmful ideologies” are a bit broad. A quick definition or a brief example will make your claims more concrete.  \n",
       "  • Sentence Length & Focus  \n",
       "    – Some sentences, especially in the “Need for Regulation” paragraph, are quite long and pack in multiple ideas. Break them up so each sentence makes one clear point.  \n",
       "  • Transitions  \n",
       "    – Occasionally the jump from one idea to the next feels abrupt. Transitions—phrases like “Building on that concern…” or “Conversely…”—will guide readers through your logic more smoothly.\n",
       "\n",
       "3. Strength of Argument  \n",
       "  • Use Specific Evidence  \n",
       "    – Right now you allude to election interference, violence, hate speech—but don’t cite any examples or data. Even one or two well-chosen statistics (e.g., “In 2016, X% of false news stories on Facebook outperformed real news in shares”) or case studies (e.g., Cambridge Analytica) will boost credibility.  \n",
       "  • Deepen the Counterargument Section  \n",
       "    – You acknowledge the free-speech concern, but you could strengthen your case by explaining exactly how independent regulators could function without political bias. What checks and balances would you recommend?  \n",
       "  • Consider Unintended Consequences  \n",
       "    – A brief nod to potential downsides—overbroad laws, regulatory capture, or technical loopholes—followed by your mitigation strategies will show you’ve thought through the complexities.\n",
       "\n",
       "4. Writing Style  \n",
       "  • Active Voice  \n",
       "    – Phrases like “these platforms have become” or “it is necessary” are passive. Turning them around (“Social media platforms now drive…” or “We must regulate…”) makes your prose more dynamic.  \n",
       "  • Vary Your Vocabulary  \n",
       "    – “Regulation” appears very frequently. Once you’ve introduced it, you can swap in “oversight,” “rules,” or “guardrails” to keep the prose fresh.  \n",
       "  • Tone & Engagement  \n",
       "    – The essay is appropriately formal, but you might open with a vivid anecdote or statistic to hook readers before zooming out to the big picture. For example: “Every minute, users post 347,000 tweets—some of them lethal.”  \n",
       "  • Paragraph Length  \n",
       "    – A couple of your paragraphs run more than 10 lines. Breaking them into smaller chunks helps readers process each argument step by step.\n",
       "\n",
       "Overall, you’ve chosen a timely and important topic and laid out the broad contours of a solid case. By sharpening your thesis, bolstering each claim with data or examples, and fine-tuning your prose for clarity and energy, you’ll move from a strong draft to a compelling, authoritative essay. Good luck!</pre>\n",
       "    </div>\n",
       "    "
      ],
      "text/plain": [
       "<IPython.core.display.HTML object>"
      ]
     },
     "metadata": {},
     "output_type": "display_data"
    },
    {
     "data": {
      "text/html": [
       "\n",
       "    <div style=\"\n",
       "        border: 1px solid #ccc;\n",
       "        border-radius: 10px;\n",
       "        padding: 15px;\n",
       "        margin-bottom: 15px;\n",
       "        background-color: #f3e5f5;\n",
       "        color: #222222;\n",
       "    \">\n",
       "        <h3 style=\"margin-top: 0;\">Step 3 – Revision</h3>\n",
       "        <pre style=\"\n",
       "            white-space: pre-wrap;\n",
       "            font-family: monospace;\n",
       "            font-size: 14px;\n",
       "        \">Title: The Case for Government Regulation of Social Media Platforms\n",
       "\n",
       "Introduction\n",
       "\n",
       "In the modern digital age, social media platforms are a ubiquitous presence in the daily lives of billions. They transcend geographical boundaries, enabling unprecedented connections, sharing, and communication. However, the immense influence wielded by social media companies has sparked a contentious debate: should these platforms be regulated by governments? This essay argues that government regulation is necessary to ensure ethical and responsible functioning, safeguard public interests, and protect democratic values. It will explore the key areas of privacy, misinformation, and hate speech to illustrate the need for regulation.\n",
       "\n",
       "The Need for Regulation: Privacy Concerns\n",
       "\n",
       "One of the critical issues driving the call for regulation is the erosion of personal privacy. Social media platforms often harvest vast amounts of user data without transparent consent protocols, raising ethical concerns around surveillance and data misuse. User privacy should be rigorously protected through government oversight, ensuring platforms and their algorithms are transparent and accountable.\n",
       "\n",
       "Misinformation and Its Dangers \n",
       "\n",
       "Misinformation proliferates on social media, where platforms typically prioritize engagement over accuracy. This unchecked environment can dangerously influence public opinion, such as during elections, and incite real-world consequences. For instance, in 2016, false news stories on Facebook, on average, outperformed real news in terms of shares. Government regulation could mandate that social media companies adhere to standards prioritizing factual information and transparency.\n",
       "\n",
       "Hate Speech and National Security Implications\n",
       "\n",
       "Social media serves as a powerful tool for societal movements, both positive and negative. It can unite individuals for a cause, yet also facilitate the spread of harmful ideologies, threatening national security. Regulating these platforms sets parameters to curb hate speech and extremism, protecting vulnerable communities from targeted harassment and ensuring a safer online environment.\n",
       "\n",
       "Balancing Free Speech and Regulation\n",
       "\n",
       "Critics of regulation argue that oversight could undermine free speech, leading to censorship and suppressing dissenting voices. However, regulation need not equate to censorship. Instead, it should establish a balanced framework where social media platforms are accountable for their moderation practices. Independent regulatory bodies, functioning without political bias and with transparent checks and balances, are crucial to maintaining this balance.\n",
       "\n",
       "Learning from Existing Models\n",
       "\n",
       "Countries worldwide are experimenting with regulatory models addressing these issues. The European Union's General Data Protection Regulation (GDPR) offers a comprehensive framework for user privacy, setting a global benchmark. Australia's policies on countering extremist content could serve as a model for others. While regulation does not have to be uniform globally, these examples can inspire context-specific policies that respect national laws and cultural norms.\n",
       "\n",
       "Proposing Concrete Regulatory Mechanisms\n",
       "\n",
       "To bridge theory and practice, regulatory proposals should include transparency reports, appeals processes, and penalties for non-compliance. Social media platforms should publish regular transparency reports detailing content moderation decisions, while appeals processes allow users to contest those decisions. Penalties for non-compliance ensure that platforms adhere to established standards.\n",
       "\n",
       "Conclusion\n",
       "\n",
       "As social media continues to expand in scope and influence, the question of regulation becomes more pressing. While concerns about overreach and threats to free speech exist, these can be mitigated through careful policy design and implementation. Given the risks posed by unchecked social media, governments must create a balanced regulatory framework that protects individual rights, promotes information integrity, and secures democratic processes. Lawmakers must convene cross-sector working groups by 2025 to develop these solutions. Ultimately, a collaborative approach between governments, industry stakeholders, and civil society organizations is essential for crafting policies that benefit society as a whole.</pre>\n",
       "    </div>\n",
       "    "
      ],
      "text/plain": [
       "<IPython.core.display.HTML object>"
      ]
     },
     "metadata": {},
     "output_type": "display_data"
    }
   ],
   "source": [
    "from utils import show_output\n",
    "\n",
    "essay_prompt = \"Should social media platforms be regulated by the government?\"\n",
    "\n",
    "show_output(\"Step 1 – Draft\", draft, background=\"#fff8dc\", text_color=\"#333333\")\n",
    "show_output(\"Step 2 – Reflection\", feedback, background=\"#e0f7fa\", text_color=\"#222222\")\n",
    "show_output(\"Step 3 – Revision\", revised, background=\"#f3e5f5\", text_color=\"#222222\")"
   ]
  },
  {
   "cell_type": "markdown",
   "id": "367973f7",
   "metadata": {},
   "source": [
    "## Check grading feedback\n",
    "\n",
    "If you have collapsed the right panel to have more screen space for your code, as shown below:\n",
    "\n",
    "<img src=\"./images/collapsed.png\" alt=\"Collapsed Image\" width=\"800\" height=\"400\"/>\n",
    "\n",
    "You can click on the left-facing arrow button (highlighted in red) to view feedback for your submission after submitting it for grading. Once expanded, it should display like this:\n",
    "\n",
    "<img src=\"./images/expanded.png\" alt=\"Expanded Image\" width=\"800\" height=\"400\"/>"
   ]
  }
 ],
 "metadata": {
  "grader_version": "1",
  "kernelspec": {
   "display_name": "Python 3 (ipykernel)",
   "language": "python",
   "name": "python3"
  },
  "language_info": {
   "codemirror_mode": {
    "name": "ipython",
    "version": 3
   },
   "file_extension": ".py",
   "mimetype": "text/x-python",
   "name": "python",
   "nbconvert_exporter": "python",
   "pygments_lexer": "ipython3",
   "version": "3.11.9"
  }
 },
 "nbformat": 4,
 "nbformat_minor": 5
}
